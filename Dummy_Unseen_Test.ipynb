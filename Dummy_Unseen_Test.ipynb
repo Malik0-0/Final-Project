{
 "cells": [
  {
   "cell_type": "code",
   "execution_count": 1,
   "metadata": {},
   "outputs": [],
   "source": [
    "import joblib\n",
    "import pandas as pd\n",
    "from sklearn.model_selection import train_test_split\n",
    "from sklearn.metrics import classification_report, accuracy_score, confusion_matrix\n",
    "from sklearn.preprocessing import OneHotEncoder\n",
    "import numpy as np\n",
    "\n",
    "# Load the unseen data\n",
    "clv_unseen = pd.read_csv('new_obs_unseen_dummy3.csv')\n",
    "\n",
    "# Split the unseen data into two halves (50% each), stratified by the 'Response'\n",
    "clv_unseen_untreated, clv_unseen_treated = train_test_split(\n",
    "    clv_unseen,\n",
    "    stratify=clv_unseen['Response'],\n",
    "    test_size=0.5,\n",
    "    random_state=42\n",
    ")"
   ]
  },
  {
   "cell_type": "code",
   "execution_count": 2,
   "metadata": {},
   "outputs": [],
   "source": [
    "# Section 1: Preparing and testing treated data with pipe_tuned_pipeline\n",
    "\n",
    "# Dropping unnecessary columns\n",
    "clv_unseen_treated = clv_unseen_treated.drop(columns=['Customer', 'Effective To Date'])\n",
    "\n",
    "# Mapping 'Yes'/'No' to 1/0 in the Response column\n",
    "clv_unseen_treated['Response'] = clv_unseen_treated['Response'].map({'Yes': 1, 'No': 0}).astype(float)\n",
    "\n",
    "# Applying logarithmic transformation\n",
    "clv_unseen_treated['CLV_log'] = np.log1p(clv_unseen_treated['Customer Lifetime Value'])\n",
    "clv_unseen_treated['Income_Log'] = np.log1p(clv_unseen_treated['Income'])\n",
    "clv_unseen_treated['TCA_Log'] = np.log1p(clv_unseen_treated['Total Claim Amount'])\n",
    "\n",
    "# Dropping the original columns after logging\n",
    "clv_unseen_treated = clv_unseen_treated.drop(columns=['Customer Lifetime Value', 'Income', 'Total Claim Amount'])\n",
    "\n",
    "# Splitting treated data into features and target variable\n",
    "X_unseen_treated = clv_unseen_treated.drop(columns=['Response'])\n",
    "y_unseen_treated = clv_unseen_treated['Response']\n",
    "\n",
    "# Load the pipe_tuned pipeline\n",
    "pipe_tuned_pipeline = joblib.load('pipe_tuned_pipeline.pkl')\n",
    "\n",
    "# Predict using the treated data pipeline\n",
    "y_pred_treated = pipe_tuned_pipeline.predict(X_unseen_treated)"
   ]
  },
  {
   "cell_type": "code",
   "execution_count": 3,
   "metadata": {},
   "outputs": [
    {
     "name": "stdout",
     "output_type": "stream",
     "text": [
      "\n",
      "Performance on Treated Data (pipe_tuned_pipeline):\n",
      "Accuracy: 0.8982494529540481\n",
      "Classification Report:\n",
      "               precision    recall  f1-score   support\n",
      "\n",
      "         0.0       1.00      0.89      0.94       783\n",
      "         1.0       0.59      0.98      0.73       131\n",
      "\n",
      "    accuracy                           0.90       914\n",
      "   macro avg       0.79      0.93      0.84       914\n",
      "weighted avg       0.94      0.90      0.91       914\n",
      "\n",
      "Confusion Matrix:\n",
      " [[693  90]\n",
      " [  3 128]]\n"
     ]
    }
   ],
   "source": [
    "# Evaluate performance\n",
    "print(\"\\nPerformance on Treated Data (pipe_tuned_pipeline):\")\n",
    "print(\"Accuracy:\", accuracy_score(y_unseen_treated, y_pred_treated))\n",
    "print(\"Classification Report:\\n\", classification_report(y_unseen_treated, y_pred_treated))\n",
    "print(\"Confusion Matrix:\\n\", confusion_matrix(y_unseen_treated, y_pred_treated))"
   ]
  },
  {
   "cell_type": "code",
   "execution_count": 4,
   "metadata": {},
   "outputs": [
    {
     "name": "stdout",
     "output_type": "stream",
     "text": [
      "Treated Data - 'Yes' Predictions: 218.0, 'No' Predictions: 696.0\n",
      "Treated predictions saved to 'treated_predictions.csv'.\n"
     ]
    }
   ],
   "source": [
    "# Count the predictions\n",
    "treated_yes_count = sum(y_pred_treated)\n",
    "treated_no_count = len(y_pred_treated) - treated_yes_count\n",
    "print(f\"Treated Data - 'Yes' Predictions: {treated_yes_count}, 'No' Predictions: {treated_no_count}\")\n",
    "\n",
    "# Save predictions to CSV\n",
    "treated_results = pd.DataFrame({\n",
    "    'Actual': y_unseen_treated,\n",
    "    'Predicted': y_pred_treated\n",
    "})\n",
    "treated_results.to_csv('treated_predictions.csv', index=False)\n",
    "print(\"Treated predictions saved to 'treated_predictions.csv'.\")"
   ]
  },
  {
   "cell_type": "code",
   "execution_count": 5,
   "metadata": {},
   "outputs": [],
   "source": [
    "# Section 2: Minimal Treatment (One-Hot Encoding)\n",
    "\n",
    "# Dropping unnecessary columns\n",
    "clv_unseen_untreated = clv_unseen_untreated.drop(columns=['Customer', 'Effective To Date', 'Unnamed: 0'])\n",
    "\n",
    "# Mapping 'Yes'/'No' to 1/0 in the Response column\n",
    "clv_unseen_untreated['Response'] = clv_unseen_untreated['Response'].map({'Yes': 1, 'No': 0}).astype(float)\n",
    "\n",
    "# Split the data into features and target variable\n",
    "X_unseen_untreated = clv_unseen_untreated.drop('Response', axis=1)\n",
    "y_unseen_untreated = clv_unseen_untreated['Response']\n",
    "\n",
    "# Identify categorical columns automatically\n",
    "categorical_columns = X_unseen_untreated.select_dtypes(include=['object', 'category']).columns.tolist()\n",
    "\n",
    "# Identify numerical columns automatically\n",
    "numerical_columns = X_unseen_untreated.select_dtypes(exclude=['object', 'category']).columns.tolist()\n",
    "\n",
    "# Apply One-Hot Encoding to all categorical columns\n",
    "one_hot_encoder = OneHotEncoder(sparse_output=False)\n",
    "X_unseen_untreated_categorical = one_hot_encoder.fit_transform(X_unseen_untreated[categorical_columns])\n",
    "\n",
    "# Convert One-Hot Encoded data to DataFrame with appropriate column names\n",
    "one_hot_encoded_columns = one_hot_encoder.get_feature_names_out(categorical_columns)\n",
    "X_unseen_untreated_categorical = pd.DataFrame(X_unseen_untreated_categorical, columns=one_hot_encoded_columns, index=X_unseen_untreated.index)\n",
    "\n",
    "# Combine the numerical features with the one-hot encoded categorical features\n",
    "X_unseen_combined = pd.concat([X_unseen_untreated[numerical_columns], X_unseen_untreated_categorical], axis=1)\n",
    "\n",
    "# Load the knn_tuned model\n",
    "knn_tuned_model = joblib.load('knn_tuned_model.pkl')\n",
    "\n",
    "# Predict using the untreated data model\n",
    "y_pred_untreated = knn_tuned_model.predict(X_unseen_combined)"
   ]
  },
  {
   "cell_type": "code",
   "execution_count": 6,
   "metadata": {},
   "outputs": [
    {
     "name": "stdout",
     "output_type": "stream",
     "text": [
      "Performance on Minimally Treated Data (One-Hot Encoding):\n",
      "Accuracy: 0.8970427163198248\n",
      "Classification Report:\n",
      "               precision    recall  f1-score   support\n",
      "\n",
      "         0.0       0.96      0.92      0.94       782\n",
      "         1.0       0.61      0.76      0.68       131\n",
      "\n",
      "    accuracy                           0.90       913\n",
      "   macro avg       0.79      0.84      0.81       913\n",
      "weighted avg       0.91      0.90      0.90       913\n",
      "\n",
      "Confusion Matrix:\n",
      " [[720  62]\n",
      " [ 32  99]]\n"
     ]
    }
   ],
   "source": [
    "# Evaluate performance\n",
    "print(\"Performance on Minimally Treated Data (One-Hot Encoding):\")\n",
    "print(\"Accuracy:\", accuracy_score(y_unseen_untreated, y_pred_untreated))\n",
    "print(\"Classification Report:\\n\", classification_report(y_unseen_untreated, y_pred_untreated))\n",
    "print(\"Confusion Matrix:\\n\", confusion_matrix(y_unseen_untreated, y_pred_untreated))"
   ]
  },
  {
   "cell_type": "code",
   "execution_count": 7,
   "metadata": {},
   "outputs": [
    {
     "name": "stdout",
     "output_type": "stream",
     "text": [
      "Untreated Data - 'Yes' Predictions: 161.0, 'No' Predictions: 752.0\n",
      "Untreated predictions saved to 'untreated_predictions.csv'.\n"
     ]
    }
   ],
   "source": [
    "# Count the predictions for untreated data\n",
    "untreated_yes_count = sum(y_pred_untreated)\n",
    "untreated_no_count = len(y_pred_untreated) - untreated_yes_count\n",
    "print(f\"Untreated Data - 'Yes' Predictions: {untreated_yes_count}, 'No' Predictions: {untreated_no_count}\")\n",
    "\n",
    "# Save predictions to CSV\n",
    "untreated_results = pd.DataFrame({\n",
    "    'Actual': y_unseen_untreated,\n",
    "    'Predicted': y_pred_untreated\n",
    "})\n",
    "untreated_results.to_csv('untreated_predictions.csv', index=False)\n",
    "print(\"Untreated predictions saved to 'untreated_predictions.csv'.\")"
   ]
  },
  {
   "cell_type": "markdown",
   "metadata": {},
   "source": [
    "## Percentage Amplification Analysis\n",
    "\n",
    "### 1. 'Yes' Predictions:\n",
    "- **Untreated:** 161\n",
    "- **Treated:** 218\n",
    "\n",
    "**Percentage Amplification (Yes):**\n",
    "<br>**(218 - 161) / 161 * 100** =\n",
    "<br>57 / 161 * 100 ≈ **35.4%**\n",
    "\n",
    "### 2. 'No' Predictions:\n",
    "- **Untreated:** 752\n",
    "- **Treated:** 696\n",
    "\n",
    "**Percentage Amplification (No):**\n",
    "<br>**(696 - 752) / 752 * 100** =\n",
    "<br>-56 / 752 * 100 ≈ **-7.45%**\n",
    "\n",
    "### Summary:\n",
    "- **Yes Predictions:** The treated data resulted in a **35.4% increase** in 'Yes' predictions compared to the untreated data.\n",
    "- **No Predictions:** The treated data resulted in a **7.45% decrease** in 'No' predictions compared to the untreated data.\n",
    "\n",
    "This analysis suggests that the preprocessing treatments applied increased the model's likelihood of predicting 'Yes' outcomes, while slightly reducing the likelihood of predicting 'No' outcomes."
   ]
  }
 ],
 "metadata": {
  "kernelspec": {
   "display_name": "Python 3",
   "language": "python",
   "name": "python3"
  },
  "language_info": {
   "codemirror_mode": {
    "name": "ipython",
    "version": 3
   },
   "file_extension": ".py",
   "mimetype": "text/x-python",
   "name": "python",
   "nbconvert_exporter": "python",
   "pygments_lexer": "ipython3",
   "version": "3.12.2"
  }
 },
 "nbformat": 4,
 "nbformat_minor": 2
}
